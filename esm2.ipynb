{
 "cells": [
  {
   "cell_type": "code",
   "execution_count": 1,
   "metadata": {},
   "outputs": [
    {
     "name": "stderr",
     "output_type": "stream",
     "text": [
      "/opt/anaconda3/envs/biotorch/lib/python3.12/site-packages/tqdm/auto.py:21: TqdmWarning: IProgress not found. Please update jupyter and ipywidgets. See https://ipywidgets.readthedocs.io/en/stable/user_install.html\n",
      "  from .autonotebook import tqdm as notebook_tqdm\n",
      "/opt/anaconda3/envs/biotorch/lib/python3.12/site-packages/huggingface_hub/file_download.py:1132: FutureWarning: `resume_download` is deprecated and will be removed in version 1.0.0. Downloads always resume when possible. If you want to force a new download, use `force_download=True`.\n",
      "  warnings.warn(\n",
      "The tokenizer class you load from this checkpoint is not the same type as the class this function is called from. It may result in unexpected tokenization. \n",
      "The tokenizer class you load from this checkpoint is 'ESMTokenizer'. \n",
      "The class this function is called from is 'EsmTokenizer'.\n",
      "Some weights of EsmModel were not initialized from the model checkpoint at facebook/esm-1b and are newly initialized: ['esm.contact_head.regression.bias', 'esm.contact_head.regression.weight', 'esm.pooler.dense.bias', 'esm.pooler.dense.weight']\n",
      "You should probably TRAIN this model on a down-stream task to be able to use it for predictions and inference.\n"
     ]
    },
    {
     "name": "stdout",
     "output_type": "stream",
     "text": [
      "tensor([[[ 0.2620,  0.0590, -0.0408,  ..., -0.0314, -0.1368, -0.1804],\n",
      "         [-0.0372, -0.0160,  0.0413,  ..., -0.0513,  0.0441, -0.5276],\n",
      "         [ 0.0020,  0.0058, -0.0039,  ..., -0.0203,  0.0302, -0.4622],\n",
      "         ...,\n",
      "         [ 0.0023,  0.0291,  0.0285,  ..., -0.0128,  0.0312, -0.5142],\n",
      "         [-0.0333,  0.0282,  0.0198,  ..., -0.0247,  0.0507, -0.4915],\n",
      "         [-0.0378,  0.0069,  0.0048,  ..., -0.0154,  0.0741, -0.5126]]])\n"
     ]
    }
   ],
   "source": [
    "# 导入必要的库\n",
    "from transformers import EsmTokenizer, EsmModel\n",
    "import torch\n",
    "\n",
    "# 加载预训练的ESM模型和分词器\n",
    "model_name = \"facebook/esm-1b\"\n",
    "tokenizer = EsmTokenizer.from_pretrained(model_name)\n",
    "model = EsmModel.from_pretrained(model_name)\n",
    "\n",
    "# 输入蛋白质序列\n",
    "sequence = \"MKTLLVLALAVLAAA\"\n",
    "\n",
    "# 将序列转换为模型输入\n",
    "inputs = tokenizer(sequence, return_tensors=\"pt\")\n",
    "\n",
    "# 获取模型输出（嵌入向量）\n",
    "with torch.no_grad():\n",
    "    outputs = model(**inputs)\n",
    "    embedding = outputs.last_hidden_state\n",
    "\n",
    "# 打印嵌入向量\n",
    "print(embedding)"
   ]
  },
  {
   "cell_type": "code",
   "execution_count": null,
   "metadata": {},
   "outputs": [],
   "source": []
  }
 ],
 "metadata": {
  "kernelspec": {
   "display_name": "biotorch",
   "language": "python",
   "name": "python3"
  },
  "language_info": {
   "codemirror_mode": {
    "name": "ipython",
    "version": 3
   },
   "file_extension": ".py",
   "mimetype": "text/x-python",
   "name": "python",
   "nbconvert_exporter": "python",
   "pygments_lexer": "ipython3",
   "version": "3.12.2"
  }
 },
 "nbformat": 4,
 "nbformat_minor": 2
}
