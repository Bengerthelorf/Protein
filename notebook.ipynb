{
 "cells": [
  {
   "cell_type": "code",
   "execution_count": 5,
   "metadata": {},
   "outputs": [
    {
     "name": "stdout",
     "output_type": "stream",
     "text": [
      "/home/angel/Temp/Protein/cafa-5-protein-function-prediction/sample_submission.tsv\n",
      "/home/angel/Temp/Protein/cafa-5-protein-function-prediction/IA.txt\n",
      "/home/angel/Temp/Protein/cafa-5-protein-function-prediction/Test (Targets)/testsuperset-taxon-list.tsv\n",
      "/home/angel/Temp/Protein/cafa-5-protein-function-prediction/Test (Targets)/testsuperset.fasta\n",
      "/home/angel/Temp/Protein/cafa-5-protein-function-prediction/Train/train_taxonomy.tsv\n",
      "/home/angel/Temp/Protein/cafa-5-protein-function-prediction/Train/go-basic.obo\n",
      "/home/angel/Temp/Protein/cafa-5-protein-function-prediction/Train/train_terms.tsv\n",
      "/home/angel/Temp/Protein/cafa-5-protein-function-prediction/Train/train_sequences.fasta\n"
     ]
    }
   ],
   "source": [
    "import numpy as np\n",
    "import pandas as pd \n",
    "\n",
    "import os\n",
    "for dirname, _, filenames in os.walk('/home/angel/Temp/Protein/cafa-5-protein-function-prediction'):\n",
    "    for filename in filenames:\n",
    "        print(os.path.join(dirname, filename))"
   ]
  }
 ],
 "metadata": {
  "kernelspec": {
   "display_name": "pytorch2",
   "language": "python",
   "name": "python3"
  },
  "language_info": {
   "codemirror_mode": {
    "name": "ipython",
    "version": 3
   },
   "file_extension": ".py",
   "mimetype": "text/x-python",
   "name": "python",
   "nbconvert_exporter": "python",
   "pygments_lexer": "ipython3",
   "version": "3.9.18"
  }
 },
 "nbformat": 4,
 "nbformat_minor": 2
}
