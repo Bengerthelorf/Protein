{
 "cells": [
  {
   "cell_type": "markdown",
   "metadata": {},
   "source": [
    "我需要的信息：entryID\\Taxon ID of the species\\sequence   OBO中的几个term: Molecular Function (MF), Biological Process (BP), and Cellular Component (CC)\n",
    "https://github.com/claradepaolis/InformationAccretion (IA文件评分)"
   ]
  },
  {
   "cell_type": "code",
   "execution_count": 14,
   "metadata": {},
   "outputs": [
    {
     "name": "stdout",
     "output_type": "stream",
     "text": [
      "../cafa-5-protein-function-prediction/sample_submission.tsv\n",
      "../cafa-5-protein-function-prediction/IA.txt\n",
      "../cafa-5-protein-function-prediction/Test (Targets)/testsuperset-taxon-list.tsv\n",
      "../cafa-5-protein-function-prediction/Test (Targets)/testsuperset.fasta\n",
      "../cafa-5-protein-function-prediction/Train/train_taxonomy.tsv\n",
      "../cafa-5-protein-function-prediction/Train/go-basic.obo\n",
      "../cafa-5-protein-function-prediction/Train/train_terms.tsv\n",
      "../cafa-5-protein-function-prediction/Train/train_sequences.fasta\n"
     ]
    }
   ],
   "source": [
    "import numpy as np\n",
    "import pandas as pd \n",
    "\n",
    "import os\n",
    "for dirname, _, filenames in os.walk('/home/angel/Temp/Protein/cafa-5-protein-function-prediction'):\n",
    "    for filename in filenames:\n",
    "        print(os.path.join(dirname, filename))"
   ]
  },
  {
   "cell_type": "code",
   "execution_count": 1,
   "metadata": {},
   "outputs": [
    {
     "name": "stdout",
     "output_type": "stream",
     "text": [
      "Collecting Bio\n",
      "  Downloading bio-1.6.2-py3-none-any.whl.metadata (5.1 kB)\n",
      "Collecting biopython>=1.80 (from Bio)\n",
      "  Downloading biopython-1.83-cp39-cp39-manylinux_2_17_x86_64.manylinux2014_x86_64.whl.metadata (13 kB)\n",
      "Requirement already satisfied: requests in /home/angel/anaconda3/envs/pytorch2/lib/python3.9/site-packages (from Bio) (2.25.1)\n",
      "Requirement already satisfied: tqdm in /home/angel/anaconda3/envs/pytorch2/lib/python3.9/site-packages (from Bio) (4.66.2)\n",
      "Collecting mygene (from Bio)\n",
      "  Downloading mygene-3.2.2-py2.py3-none-any.whl.metadata (10 kB)\n",
      "Requirement already satisfied: pandas in /home/angel/anaconda3/envs/pytorch2/lib/python3.9/site-packages (from Bio) (1.4.4)\n",
      "Collecting pooch (from Bio)\n",
      "  Downloading pooch-1.8.1-py3-none-any.whl.metadata (9.5 kB)\n",
      "Collecting gprofiler-official (from Bio)\n",
      "  Downloading gprofiler_official-1.0.0-py3-none-any.whl.metadata (11 kB)\n",
      "Requirement already satisfied: numpy in /home/angel/anaconda3/envs/pytorch2/lib/python3.9/site-packages (from biopython>=1.80->Bio) (1.19.5)\n",
      "Collecting biothings-client>=0.2.6 (from mygene->Bio)\n",
      "  Downloading biothings_client-0.3.1-py2.py3-none-any.whl.metadata (9.8 kB)\n",
      "Requirement already satisfied: python-dateutil>=2.8.1 in /home/angel/anaconda3/envs/pytorch2/lib/python3.9/site-packages (from pandas->Bio) (2.8.2)\n",
      "Requirement already satisfied: pytz>=2020.1 in /home/angel/anaconda3/envs/pytorch2/lib/python3.9/site-packages (from pandas->Bio) (2024.1)\n",
      "Requirement already satisfied: platformdirs>=2.5.0 in /home/angel/anaconda3/envs/pytorch2/lib/python3.9/site-packages (from pooch->Bio) (4.2.0)\n",
      "Requirement already satisfied: packaging>=20.0 in /home/angel/anaconda3/envs/pytorch2/lib/python3.9/site-packages (from pooch->Bio) (23.2)\n",
      "Requirement already satisfied: chardet<5,>=3.0.2 in /home/angel/anaconda3/envs/pytorch2/lib/python3.9/site-packages (from requests->Bio) (4.0.0)\n",
      "Requirement already satisfied: idna<3,>=2.5 in /home/angel/anaconda3/envs/pytorch2/lib/python3.9/site-packages (from requests->Bio) (2.10)\n",
      "Requirement already satisfied: urllib3<1.27,>=1.21.1 in /home/angel/anaconda3/envs/pytorch2/lib/python3.9/site-packages (from requests->Bio) (1.26.18)\n",
      "Requirement already satisfied: certifi>=2017.4.17 in /home/angel/anaconda3/envs/pytorch2/lib/python3.9/site-packages (from requests->Bio) (2024.2.2)\n",
      "Requirement already satisfied: six>=1.5 in /home/angel/anaconda3/envs/pytorch2/lib/python3.9/site-packages (from python-dateutil>=2.8.1->pandas->Bio) (1.16.0)\n",
      "Downloading bio-1.6.2-py3-none-any.whl (278 kB)\n",
      "\u001b[2K   \u001b[90m━━━━━━━━━━━━━━━━━━━━━━━━━━━━━━━━━━━━━━━\u001b[0m \u001b[32m278.6/278.6 kB\u001b[0m \u001b[31m518.9 kB/s\u001b[0m eta \u001b[36m0:00:00\u001b[0ma \u001b[36m0:00:01\u001b[0m\n",
      "\u001b[?25hDownloading biopython-1.83-cp39-cp39-manylinux_2_17_x86_64.manylinux2014_x86_64.whl (3.1 MB)\n",
      "\u001b[2K   \u001b[90m━━━━━━━━━━━━━━━━━━━━━━━━━━━━━━━━━━━━━━━━\u001b[0m \u001b[32m3.1/3.1 MB\u001b[0m \u001b[31m5.1 MB/s\u001b[0m eta \u001b[36m0:00:00\u001b[0ma \u001b[36m0:00:01\u001b[0m\n",
      "\u001b[?25hDownloading gprofiler_official-1.0.0-py3-none-any.whl (9.3 kB)\n",
      "Downloading mygene-3.2.2-py2.py3-none-any.whl (5.4 kB)\n",
      "Downloading pooch-1.8.1-py3-none-any.whl (62 kB)\n",
      "\u001b[2K   \u001b[90m━━━━━━━━━━━━━━━━━━━━━━━━━━━━━━━━━━━━━━━━\u001b[0m \u001b[32m63.0/63.0 kB\u001b[0m \u001b[31m8.9 MB/s\u001b[0m eta \u001b[36m0:00:00\u001b[0m\n",
      "\u001b[?25hDownloading biothings_client-0.3.1-py2.py3-none-any.whl (29 kB)\n",
      "Installing collected packages: biopython, pooch, gprofiler-official, biothings-client, mygene, Bio\n",
      "Successfully installed Bio-1.6.2 biopython-1.83 biothings-client-0.3.1 gprofiler-official-1.0.0 mygene-3.2.2 pooch-1.8.1\n"
     ]
    }
   ],
   "source": [
    "!pip install Bio"
   ]
  },
  {
   "cell_type": "code",
   "execution_count": 3,
   "metadata": {},
   "outputs": [],
   "source": [
    "#处理/Train/train_sequences.fasta\n",
    "from Bio import SeqIO"
   ]
  },
  {
   "cell_type": "code",
   "execution_count": 21,
   "metadata": {},
   "outputs": [],
   "source": [
    "sequences_dict = {}\n",
    "for seq_record in SeqIO.parse('../cafa-5-protein-function-prediction/Train/train_sequences.fasta', \"fasta\"):\n",
    "    sequences_dict[seq_record.id] = str(seq_record.seq)\n",
    "sequences = pd.DataFrame(list(sequences_dict.items()), columns=['EntryID', 'Sequence'])"
   ]
  },
  {
   "cell_type": "code",
   "execution_count": 22,
   "metadata": {},
   "outputs": [],
   "source": [
    "#处理/Train/train_annotations.csv\n",
    "sequences_annotations = pd.read_csv('../cafa-5-protein-function-prediction/Train/train_taxonomy.tsv',sep='\\t')"
   ]
  },
  {
   "cell_type": "code",
   "execution_count": 23,
   "metadata": {},
   "outputs": [],
   "source": [
    "#把两个表合并\n",
    "train = pd.merge(sequences, sequences_annotations, on='EntryID')"
   ]
  },
  {
   "cell_type": "code",
   "execution_count": 25,
   "metadata": {},
   "outputs": [
    {
     "name": "stdout",
     "output_type": "stream",
     "text": [
      "Collecting obonet\n",
      "  Downloading obonet-1.0.0-py3-none-any.whl.metadata (6.8 kB)\n",
      "Requirement already satisfied: networkx in /home/angel/anaconda3/envs/pytorch2/lib/python3.9/site-packages (from obonet) (3.2.1)\n",
      "Downloading obonet-1.0.0-py3-none-any.whl (9.2 kB)\n",
      "Installing collected packages: obonet\n",
      "Successfully installed obonet-1.0.0\n"
     ]
    }
   ],
   "source": [
    "#使用obonet处理/Train/go-basic.obo\n",
    "!pip install obonet"
   ]
  },
  {
   "cell_type": "code",
   "execution_count": 27,
   "metadata": {},
   "outputs": [
    {
     "name": "stdout",
     "output_type": "stream",
     "text": [
      "CPU times: user 5.37 s, sys: 350 ms, total: 5.72 s\n",
      "Wall time: 5.72 s\n"
     ]
    }
   ],
   "source": [
    "%%time\n",
    "import networkx\n",
    "import obonet\n",
    "graph = obonet.read_obo('../cafa-5-protein-function-prediction/Train/go-basic.obo')"
   ]
  },
  {
   "cell_type": "code",
   "execution_count": 34,
   "metadata": {},
   "outputs": [],
   "source": [
    "id_to_name = {id_: data.get('name') for id_, data in graph.nodes(data=True)}\n",
    "#我想要所有节点的biological_process名称，整理成dataframe形式\n",
    "go_terms = pd.DataFrame(list(id_to_name.items()), columns=['GO_ID', 'GO_Term'])"
   ]
  },
  {
   "cell_type": "code",
   "execution_count": 33,
   "metadata": {},
   "outputs": [
    {
     "data": {
      "text/plain": [
       "['central nervous system myelin formation',\n",
       " 'central nervous system myelin maintenance',\n",
       " 'central nervous system myelination',\n",
       " 'myelin assembly',\n",
       " 'myelin maintenance',\n",
       " 'myelination in peripheral nervous system',\n",
       " 'myelination of anterior lateral line nerve axons',\n",
       " 'myelination of lateral line nerve axons',\n",
       " 'myelination of posterior lateral line nerve axons',\n",
       " 'negative regulation of myelination',\n",
       " 'paranodal junction assembly',\n",
       " 'peripheral nervous system myelin formation',\n",
       " 'peripheral nervous system myelin maintenance',\n",
       " 'positive regulation of myelination',\n",
       " 'regulation of myelination']"
      ]
     },
     "execution_count": 33,
     "metadata": {},
     "output_type": "execute_result"
    }
   ],
   "source": [
    "sorted(id_to_name[superterm] for superterm in networkx.descendants(graph,'GO:0000001'))\n",
    "sorted(id_to_name[subterm] for subterm in networkx.ancestors(graph, 'GO:0042552'))"
   ]
  }
 ],
 "metadata": {
  "kernelspec": {
   "display_name": "pytorch2",
   "language": "python",
   "name": "python3"
  },
  "language_info": {
   "codemirror_mode": {
    "name": "ipython",
    "version": 3
   },
   "file_extension": ".py",
   "mimetype": "text/x-python",
   "name": "python",
   "nbconvert_exporter": "python",
   "pygments_lexer": "ipython3",
   "version": "3.9.18"
  }
 },
 "nbformat": 4,
 "nbformat_minor": 2
}
