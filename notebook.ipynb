{
 "cells": [
  {
   "cell_type": "markdown",
   "metadata": {},
   "source": [
    "需要的信息：entryID\\Taxon ID of the species\\sequence   OBO中的几个term: Molecular Function (MF), Biological Process (BP), and Cellular Component (CC)\n",
    "https://github.com/claradepaolis/InformationAccretion (IA文件评分)"
   ]
  },
  {
   "cell_type": "code",
   "execution_count": 51,
   "metadata": {},
   "outputs": [
    {
     "name": "stdout",
     "output_type": "stream",
     "text": [
      "/home/angel/Temp/Protein/cafa-5-protein-function-prediction/sample_submission.tsv\n",
      "/home/angel/Temp/Protein/cafa-5-protein-function-prediction/IA.txt\n",
      "/home/angel/Temp/Protein/cafa-5-protein-function-prediction/Test (Targets)/testsuperset-taxon-list.tsv\n",
      "/home/angel/Temp/Protein/cafa-5-protein-function-prediction/Test (Targets)/testsuperset.fasta\n",
      "/home/angel/Temp/Protein/cafa-5-protein-function-prediction/Train/train_taxonomy.tsv\n",
      "/home/angel/Temp/Protein/cafa-5-protein-function-prediction/Train/go-basic.obo\n",
      "/home/angel/Temp/Protein/cafa-5-protein-function-prediction/Train/train_terms.tsv\n",
      "/home/angel/Temp/Protein/cafa-5-protein-function-prediction/Train/train_sequences.fasta\n"
     ]
    }
   ],
   "source": [
    "import numpy as np\n",
    "import pandas as pd \n",
    "\n",
    "import os\n",
    "for dirname, _, filenames in os.walk('/home/angel/Temp/Protein/cafa-5-protein-function-prediction'):\n",
    "    for filename in filenames:\n",
    "        print(os.path.join(dirname, filename))"
   ]
  },
  {
   "cell_type": "code",
   "execution_count": 52,
   "metadata": {},
   "outputs": [
    {
     "name": "stdout",
     "output_type": "stream",
     "text": [
      "Requirement already satisfied: Bio in /home/angel/anaconda3/envs/pytorch2/lib/python3.9/site-packages (1.6.2)\n",
      "Requirement already satisfied: biopython>=1.80 in /home/angel/anaconda3/envs/pytorch2/lib/python3.9/site-packages (from Bio) (1.83)\n",
      "Requirement already satisfied: requests in /home/angel/anaconda3/envs/pytorch2/lib/python3.9/site-packages (from Bio) (2.31.0)\n",
      "Requirement already satisfied: tqdm in /home/angel/anaconda3/envs/pytorch2/lib/python3.9/site-packages (from Bio) (4.66.2)\n",
      "Requirement already satisfied: mygene in /home/angel/anaconda3/envs/pytorch2/lib/python3.9/site-packages (from Bio) (3.2.2)\n",
      "Requirement already satisfied: pandas in /home/angel/anaconda3/envs/pytorch2/lib/python3.9/site-packages (from Bio) (1.4.4)\n",
      "Requirement already satisfied: pooch in /home/angel/anaconda3/envs/pytorch2/lib/python3.9/site-packages (from Bio) (1.8.1)\n",
      "Requirement already satisfied: gprofiler-official in /home/angel/anaconda3/envs/pytorch2/lib/python3.9/site-packages (from Bio) (1.0.0)\n",
      "Requirement already satisfied: numpy in /home/angel/anaconda3/envs/pytorch2/lib/python3.9/site-packages (from biopython>=1.80->Bio) (1.26.4)\n",
      "Requirement already satisfied: biothings-client>=0.2.6 in /home/angel/anaconda3/envs/pytorch2/lib/python3.9/site-packages (from mygene->Bio) (0.3.1)\n",
      "Requirement already satisfied: python-dateutil>=2.8.1 in /home/angel/anaconda3/envs/pytorch2/lib/python3.9/site-packages (from pandas->Bio) (2.8.2)\n",
      "Requirement already satisfied: pytz>=2020.1 in /home/angel/anaconda3/envs/pytorch2/lib/python3.9/site-packages (from pandas->Bio) (2024.1)\n",
      "Requirement already satisfied: platformdirs>=2.5.0 in /home/angel/anaconda3/envs/pytorch2/lib/python3.9/site-packages (from pooch->Bio) (4.2.0)\n",
      "Requirement already satisfied: packaging>=20.0 in /home/angel/anaconda3/envs/pytorch2/lib/python3.9/site-packages (from pooch->Bio) (23.2)\n",
      "Requirement already satisfied: charset-normalizer<4,>=2 in /home/angel/anaconda3/envs/pytorch2/lib/python3.9/site-packages (from requests->Bio) (3.3.2)\n",
      "Requirement already satisfied: idna<4,>=2.5 in /home/angel/anaconda3/envs/pytorch2/lib/python3.9/site-packages (from requests->Bio) (2.10)\n",
      "Requirement already satisfied: urllib3<3,>=1.21.1 in /home/angel/anaconda3/envs/pytorch2/lib/python3.9/site-packages (from requests->Bio) (1.26.18)\n",
      "Requirement already satisfied: certifi>=2017.4.17 in /home/angel/anaconda3/envs/pytorch2/lib/python3.9/site-packages (from requests->Bio) (2024.2.2)\n",
      "Requirement already satisfied: six>=1.5 in /home/angel/anaconda3/envs/pytorch2/lib/python3.9/site-packages (from python-dateutil>=2.8.1->pandas->Bio) (1.16.0)\n"
     ]
    }
   ],
   "source": [
    "!pip install Bio"
   ]
  },
  {
   "cell_type": "code",
   "execution_count": 53,
   "metadata": {},
   "outputs": [],
   "source": [
    "#处理/Train/train_sequences.fasta\n",
    "from Bio import SeqIO"
   ]
  },
  {
   "cell_type": "code",
   "execution_count": 54,
   "metadata": {},
   "outputs": [],
   "source": [
    "sequences_dict = {}\n",
    "for seq_record in SeqIO.parse('../cafa-5-protein-function-prediction/Train/train_sequences.fasta', \"fasta\"):\n",
    "    sequences_dict[seq_record.id] = str(seq_record.seq)\n",
    "sequences = pd.DataFrame(list(sequences_dict.items()), columns=['EntryID', 'Sequence'])"
   ]
  },
  {
   "cell_type": "code",
   "execution_count": 55,
   "metadata": {},
   "outputs": [],
   "source": [
    "#处理/Train/train_annotations.csv\n",
    "sequences_annotations = pd.read_csv('../cafa-5-protein-function-prediction/Train/train_taxonomy.tsv',sep='\\t')"
   ]
  },
  {
   "cell_type": "code",
   "execution_count": 56,
   "metadata": {},
   "outputs": [],
   "source": [
    "#把两个表合并\n",
    "train = pd.merge(sequences, sequences_annotations, on='EntryID')"
   ]
  },
  {
   "cell_type": "code",
   "execution_count": 57,
   "metadata": {},
   "outputs": [
    {
     "name": "stdout",
     "output_type": "stream",
     "text": [
      "Requirement already satisfied: obonet in /home/angel/anaconda3/envs/pytorch2/lib/python3.9/site-packages (1.0.0)\n",
      "Requirement already satisfied: networkx in /home/angel/anaconda3/envs/pytorch2/lib/python3.9/site-packages (from obonet) (3.2.1)\n"
     ]
    }
   ],
   "source": [
    "#使用obonet处理/Train/go-basic.obo\n",
    "!pip install obonet"
   ]
  },
  {
   "cell_type": "code",
   "execution_count": 58,
   "metadata": {},
   "outputs": [
    {
     "name": "stdout",
     "output_type": "stream",
     "text": [
      "Name: pandas\n",
      "Version: 1.4.4\n",
      "Summary: Powerful data structures for data analysis, time series, and statistics\n",
      "Home-page: https://pandas.pydata.org\n",
      "Author: The Pandas Development Team\n",
      "Author-email: pandas-dev@python.org\n",
      "License: BSD-3-Clause\n",
      "Location: /home/angel/anaconda3/envs/pytorch2/lib/python3.9/site-packages\n",
      "Requires: numpy, python-dateutil, pytz\n",
      "Required-by: bio, d2l, ontobio\n"
     ]
    }
   ],
   "source": [
    "!pip show pandas"
   ]
  },
  {
   "cell_type": "code",
   "execution_count": 59,
   "metadata": {},
   "outputs": [
    {
     "name": "stdout",
     "output_type": "stream",
     "text": [
      "             term                                               Name  \\\n",
      "0      GO:0000001                          mitochondrion inheritance   \n",
      "1      GO:0000002                   mitochondrial genome maintenance   \n",
      "2      GO:0000003                                       reproduction   \n",
      "3      GO:0000006  high-affinity zinc transmembrane transporter a...   \n",
      "4      GO:0000007  low-affinity zinc ion transmembrane transporte...   \n",
      "...           ...                                                ...   \n",
      "43243  GO:2001313  UDP-4-deoxy-4-formamido-beta-L-arabinopyranose...   \n",
      "43244  GO:2001314  UDP-4-deoxy-4-formamido-beta-L-arabinopyranose...   \n",
      "43245  GO:2001315  UDP-4-deoxy-4-formamido-beta-L-arabinopyranose...   \n",
      "43246  GO:2001316                       kojic acid metabolic process   \n",
      "43247  GO:2001317                    kojic acid biosynthetic process   \n",
      "\n",
      "                Namespace  \n",
      "0      biological_process  \n",
      "1      biological_process  \n",
      "2      biological_process  \n",
      "3      molecular_function  \n",
      "4      molecular_function  \n",
      "...                   ...  \n",
      "43243  biological_process  \n",
      "43244  biological_process  \n",
      "43245  biological_process  \n",
      "43246  biological_process  \n",
      "43247  biological_process  \n",
      "\n",
      "[43248 rows x 3 columns]\n"
     ]
    }
   ],
   "source": [
    "import obonet\n",
    "import pandas as pd\n",
    "\n",
    "# 读取OBO文件并构建网络图\n",
    "def read_obo(file_path):\n",
    "    return obonet.read_obo(file_path)\n",
    "\n",
    "# 提取指定命名空间的term并返回DataFrame\n",
    "def extract_terms(graph, namespaces):\n",
    "    terms_list = []\n",
    "    for node, data in graph.nodes(data=True):\n",
    "        if 'namespace' in data and data['namespace'] in namespaces:\n",
    "            terms_list.append({\n",
    "                'ID': node,\n",
    "                'Name': data['name'],\n",
    "                'Namespace': data['namespace']\n",
    "            })\n",
    "    return pd.DataFrame(terms_list)\n",
    "\n",
    "# 主程序\n",
    "def main(par):\n",
    "    # 读取OBO文件并构建网络图\n",
    "    graph = read_obo(par)\n",
    "    # 提取GO ID和指定命名空间的term\n",
    "    namespaces = {\"molecular_function\", \"biological_process\", \"cellular_component\"}\n",
    "    terms_df = extract_terms(graph, namespaces)\n",
    "    terms_df.columns = ['term', 'Name', 'Namespace']  # 重命名列\n",
    "    return terms_df\n",
    "\n",
    "if __name__ == '__main__':\n",
    "    par = \"../cafa-5-protein-function-prediction/Train/go-basic.obo\"\n",
    "    obo_info = main(par)\n",
    "    print(obo_info)\n"
   ]
  },
  {
   "cell_type": "code",
   "execution_count": 60,
   "metadata": {},
   "outputs": [],
   "source": [
    "#读入train_terms.tsv\n",
    "sequences_terms = pd.read_csv('../cafa-5-protein-function-prediction/Train/train_terms.tsv',sep='\\t')"
   ]
  },
  {
   "cell_type": "code",
   "execution_count": 61,
   "metadata": {},
   "outputs": [],
   "source": [
    "obo_info2=pd.merge(obo_info, sequences_terms, on='term')"
   ]
  },
  {
   "cell_type": "code",
   "execution_count": 64,
   "metadata": {},
   "outputs": [],
   "source": [
    "#这个是最终的数据表\n",
    "train_total=pd.merge(train, obo_info2, on='EntryID').iloc[:,:-1]"
   ]
  }
 ],
 "metadata": {
  "kernelspec": {
   "display_name": "pytorch2",
   "language": "python",
   "name": "python3"
  },
  "language_info": {
   "codemirror_mode": {
    "name": "ipython",
    "version": 3
   },
   "file_extension": ".py",
   "mimetype": "text/x-python",
   "name": "python",
   "nbconvert_exporter": "python",
   "pygments_lexer": "ipython3",
   "version": "3.9.18"
  }
 },
 "nbformat": 4,
 "nbformat_minor": 2
}
